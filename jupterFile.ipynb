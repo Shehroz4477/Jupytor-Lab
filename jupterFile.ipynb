{
 "cells": [
  {
   "cell_type": "markdown",
   "id": "b6fd5275-0364-4d64-be71-e205e224f092",
   "metadata": {},
   "source": [
    " ## Excercise 1"
   ]
  },
  {
   "cell_type": "code",
   "execution_count": null,
   "id": "63205fe1-1d5e-490f-a1e3-61d401166b8b",
   "metadata": {},
   "outputs": [],
   "source": [
    "a = 2\n",
    "b = 3\n",
    "z = a+b\n",
    "print(z+a)"
   ]
  }
 ],
 "metadata": {
  "kernelspec": {
   "display_name": "Python",
   "language": "python",
   "name": "conda-env-python-py"
  },
  "language_info": {
   "codemirror_mode": {
    "name": "ipython",
    "version": 3
   },
   "file_extension": ".py",
   "mimetype": "text/x-python",
   "name": "python",
   "nbconvert_exporter": "python",
   "pygments_lexer": "ipython3",
   "version": "3.6.13"
  }
 },
 "nbformat": 4,
 "nbformat_minor": 5
}
